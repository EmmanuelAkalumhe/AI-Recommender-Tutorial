{
 "cells": [
  {
   "cell_type": "code",
   "execution_count": 4,
   "metadata": {},
   "outputs": [],
   "source": [
    "import pandas as pd\n",
    "import matplotlib.pyplot as plt\n",
    "import seaborn as sns"
   ]
  },
  {
   "cell_type": "markdown",
   "metadata": {},
   "source": [
    "# Importing the ratings and movie metadata datasets and exploring them."
   ]
  },
  {
   "cell_type": "code",
   "execution_count": 5,
   "metadata": {},
   "outputs": [],
   "source": [
    "# Read the movies_metadata file\n",
    "movies_metadata = pd.read_csv(r'C:\\Users\\HP\\Downloads\\AI Movie Night Recommendation\\Workspace\\movies_metadata.csv')\n",
    "\n",
    "# Read the ratings file\n",
    "ratings = pd.read_csv(r'C:\\Users\\HP\\Downloads\\AI Movie Night Recommendation\\Workspace\\ratings.csv')"
   ]
  },
  {
   "cell_type": "code",
   "execution_count": 6,
   "metadata": {},
   "outputs": [
    {
     "data": {
      "text/html": [
       "<div>\n",
       "<style scoped>\n",
       "    .dataframe tbody tr th:only-of-type {\n",
       "        vertical-align: middle;\n",
       "    }\n",
       "\n",
       "    .dataframe tbody tr th {\n",
       "        vertical-align: top;\n",
       "    }\n",
       "\n",
       "    .dataframe thead th {\n",
       "        text-align: right;\n",
       "    }\n",
       "</style>\n",
       "<table border=\"1\" class=\"dataframe\">\n",
       "  <thead>\n",
       "    <tr style=\"text-align: right;\">\n",
       "      <th></th>\n",
       "      <th>movie_id</th>\n",
       "      <th>title</th>\n",
       "      <th>overview</th>\n",
       "      <th>vote_average</th>\n",
       "      <th>vote_count</th>\n",
       "    </tr>\n",
       "  </thead>\n",
       "  <tbody>\n",
       "    <tr>\n",
       "      <th>0</th>\n",
       "      <td>95765.0</td>\n",
       "      <td>Cinema Paradiso</td>\n",
       "      <td>A filmmaker recalls his childhood, when he fel...</td>\n",
       "      <td>8.2</td>\n",
       "      <td>834.0</td>\n",
       "    </tr>\n",
       "    <tr>\n",
       "      <th>1</th>\n",
       "      <td>67116.0</td>\n",
       "      <td>The French Connection</td>\n",
       "      <td>Tough narcotics detective 'Popeye' Doyle is in...</td>\n",
       "      <td>7.4</td>\n",
       "      <td>435.0</td>\n",
       "    </tr>\n",
       "    <tr>\n",
       "      <th>2</th>\n",
       "      <td>80801.0</td>\n",
       "      <td>The Gods Must Be Crazy</td>\n",
       "      <td>Misery is brought to a small group of Sho in t...</td>\n",
       "      <td>7.1</td>\n",
       "      <td>251.0</td>\n",
       "    </tr>\n",
       "    <tr>\n",
       "      <th>3</th>\n",
       "      <td>96446.0</td>\n",
       "      <td>Willow</td>\n",
       "      <td>Fearful of a prophecy stating that a girl chil...</td>\n",
       "      <td>6.9</td>\n",
       "      <td>484.0</td>\n",
       "    </tr>\n",
       "    <tr>\n",
       "      <th>4</th>\n",
       "      <td>112697.0</td>\n",
       "      <td>Clueless</td>\n",
       "      <td>Shallow, rich and socially successful Cher is ...</td>\n",
       "      <td>6.9</td>\n",
       "      <td>828.0</td>\n",
       "    </tr>\n",
       "    <tr>\n",
       "      <th>...</th>\n",
       "      <td>...</td>\n",
       "      <td>...</td>\n",
       "      <td>...</td>\n",
       "      <td>...</td>\n",
       "      <td>...</td>\n",
       "    </tr>\n",
       "    <tr>\n",
       "      <th>9005</th>\n",
       "      <td>443489.0</td>\n",
       "      <td>Dreamgirls</td>\n",
       "      <td>Three young women – Deena Jones, Effie White a...</td>\n",
       "      <td>6.6</td>\n",
       "      <td>292.0</td>\n",
       "    </tr>\n",
       "    <tr>\n",
       "      <th>9006</th>\n",
       "      <td>102855.0</td>\n",
       "      <td>Scream of Stone</td>\n",
       "      <td>A meeting of two world famous climbers, one an...</td>\n",
       "      <td>7.5</td>\n",
       "      <td>4.0</td>\n",
       "    </tr>\n",
       "    <tr>\n",
       "      <th>9007</th>\n",
       "      <td>36506.0</td>\n",
       "      <td>Day of Wrath</td>\n",
       "      <td>In a 17th-century Danish village, an old woman...</td>\n",
       "      <td>8.3</td>\n",
       "      <td>41.0</td>\n",
       "    </tr>\n",
       "    <tr>\n",
       "      <th>9008</th>\n",
       "      <td>71583.0</td>\n",
       "      <td>The Groove Tube</td>\n",
       "      <td>Chevy Chase makes his film debut in this rioto...</td>\n",
       "      <td>5.3</td>\n",
       "      <td>3.0</td>\n",
       "    </tr>\n",
       "    <tr>\n",
       "      <th>9009</th>\n",
       "      <td>1567233.0</td>\n",
       "      <td>Forks Over Knives</td>\n",
       "      <td>Examines the profound claim that most, if not ...</td>\n",
       "      <td>7.0</td>\n",
       "      <td>46.0</td>\n",
       "    </tr>\n",
       "  </tbody>\n",
       "</table>\n",
       "<p>9010 rows × 5 columns</p>\n",
       "</div>"
      ],
      "text/plain": [
       "       movie_id                   title  \\\n",
       "0       95765.0         Cinema Paradiso   \n",
       "1       67116.0   The French Connection   \n",
       "2       80801.0  The Gods Must Be Crazy   \n",
       "3       96446.0                  Willow   \n",
       "4      112697.0                Clueless   \n",
       "...         ...                     ...   \n",
       "9005   443489.0              Dreamgirls   \n",
       "9006   102855.0         Scream of Stone   \n",
       "9007    36506.0            Day of Wrath   \n",
       "9008    71583.0         The Groove Tube   \n",
       "9009  1567233.0       Forks Over Knives   \n",
       "\n",
       "                                               overview  vote_average  \\\n",
       "0     A filmmaker recalls his childhood, when he fel...           8.2   \n",
       "1     Tough narcotics detective 'Popeye' Doyle is in...           7.4   \n",
       "2     Misery is brought to a small group of Sho in t...           7.1   \n",
       "3     Fearful of a prophecy stating that a girl chil...           6.9   \n",
       "4     Shallow, rich and socially successful Cher is ...           6.9   \n",
       "...                                                 ...           ...   \n",
       "9005  Three young women – Deena Jones, Effie White a...           6.6   \n",
       "9006  A meeting of two world famous climbers, one an...           7.5   \n",
       "9007  In a 17th-century Danish village, an old woman...           8.3   \n",
       "9008  Chevy Chase makes his film debut in this rioto...           5.3   \n",
       "9009  Examines the profound claim that most, if not ...           7.0   \n",
       "\n",
       "      vote_count  \n",
       "0          834.0  \n",
       "1          435.0  \n",
       "2          251.0  \n",
       "3          484.0  \n",
       "4          828.0  \n",
       "...          ...  \n",
       "9005       292.0  \n",
       "9006         4.0  \n",
       "9007        41.0  \n",
       "9008         3.0  \n",
       "9009        46.0  \n",
       "\n",
       "[9010 rows x 5 columns]"
      ]
     },
     "execution_count": 6,
     "metadata": {},
     "output_type": "execute_result"
    }
   ],
   "source": [
    "movies_metadata"
   ]
  },
  {
   "cell_type": "code",
   "execution_count": 7,
   "metadata": {},
   "outputs": [
    {
     "data": {
      "text/html": [
       "<div>\n",
       "<style scoped>\n",
       "    .dataframe tbody tr th:only-of-type {\n",
       "        vertical-align: middle;\n",
       "    }\n",
       "\n",
       "    .dataframe tbody tr th {\n",
       "        vertical-align: top;\n",
       "    }\n",
       "\n",
       "    .dataframe thead th {\n",
       "        text-align: right;\n",
       "    }\n",
       "</style>\n",
       "<table border=\"1\" class=\"dataframe\">\n",
       "  <thead>\n",
       "    <tr style=\"text-align: right;\">\n",
       "      <th></th>\n",
       "      <th>user_id</th>\n",
       "      <th>movie_id</th>\n",
       "      <th>rating</th>\n",
       "    </tr>\n",
       "  </thead>\n",
       "  <tbody>\n",
       "    <tr>\n",
       "      <th>0</th>\n",
       "      <td>2</td>\n",
       "      <td>113862.0</td>\n",
       "      <td>3.0</td>\n",
       "    </tr>\n",
       "    <tr>\n",
       "      <th>1</th>\n",
       "      <td>2</td>\n",
       "      <td>114898.0</td>\n",
       "      <td>3.0</td>\n",
       "    </tr>\n",
       "    <tr>\n",
       "      <th>2</th>\n",
       "      <td>2</td>\n",
       "      <td>109444.0</td>\n",
       "      <td>4.0</td>\n",
       "    </tr>\n",
       "    <tr>\n",
       "      <th>3</th>\n",
       "      <td>2</td>\n",
       "      <td>109830.0</td>\n",
       "      <td>3.0</td>\n",
       "    </tr>\n",
       "    <tr>\n",
       "      <th>4</th>\n",
       "      <td>2</td>\n",
       "      <td>111257.0</td>\n",
       "      <td>3.0</td>\n",
       "    </tr>\n",
       "    <tr>\n",
       "      <th>...</th>\n",
       "      <td>...</td>\n",
       "      <td>...</td>\n",
       "      <td>...</td>\n",
       "    </tr>\n",
       "    <tr>\n",
       "      <th>99788</th>\n",
       "      <td>664</td>\n",
       "      <td>119008.0</td>\n",
       "      <td>4.5</td>\n",
       "    </tr>\n",
       "    <tr>\n",
       "      <th>99789</th>\n",
       "      <td>665</td>\n",
       "      <td>110322.0</td>\n",
       "      <td>4.0</td>\n",
       "    </tr>\n",
       "    <tr>\n",
       "      <th>99790</th>\n",
       "      <td>665</td>\n",
       "      <td>171363.0</td>\n",
       "      <td>2.0</td>\n",
       "    </tr>\n",
       "    <tr>\n",
       "      <th>99791</th>\n",
       "      <td>665</td>\n",
       "      <td>236493.0</td>\n",
       "      <td>3.0</td>\n",
       "    </tr>\n",
       "    <tr>\n",
       "      <th>99792</th>\n",
       "      <td>665</td>\n",
       "      <td>141098.0</td>\n",
       "      <td>3.0</td>\n",
       "    </tr>\n",
       "  </tbody>\n",
       "</table>\n",
       "<p>99793 rows × 3 columns</p>\n",
       "</div>"
      ],
      "text/plain": [
       "       user_id  movie_id  rating\n",
       "0            2  113862.0     3.0\n",
       "1            2  114898.0     3.0\n",
       "2            2  109444.0     4.0\n",
       "3            2  109830.0     3.0\n",
       "4            2  111257.0     3.0\n",
       "...        ...       ...     ...\n",
       "99788      664  119008.0     4.5\n",
       "99789      665  110322.0     4.0\n",
       "99790      665  171363.0     2.0\n",
       "99791      665  236493.0     3.0\n",
       "99792      665  141098.0     3.0\n",
       "\n",
       "[99793 rows x 3 columns]"
      ]
     },
     "execution_count": 7,
     "metadata": {},
     "output_type": "execute_result"
    }
   ],
   "source": [
    "ratings"
   ]
  },
  {
   "cell_type": "code",
   "execution_count": 8,
   "metadata": {},
   "outputs": [
    {
     "name": "stdout",
     "output_type": "stream",
     "text": [
      "Number of unique movies: 9010\n"
     ]
    }
   ],
   "source": [
    "# Count how many movies are there\n",
    "unique_movies = movies_metadata['movie_id'].nunique()\n",
    "print(f\"Number of unique movies: {unique_movies}\")"
   ]
  },
  {
   "cell_type": "code",
   "execution_count": 9,
   "metadata": {},
   "outputs": [
    {
     "name": "stdout",
     "output_type": "stream",
     "text": [
      "Number of unique users: 671\n",
      "Number of unique rated movies: 9010\n"
     ]
    }
   ],
   "source": [
    "# Count how many unique users have rated how many unique movies\n",
    "unique_users = ratings['user_id'].nunique()\n",
    "unique_rated_movies = ratings['movie_id'].nunique()\n",
    "print(f\"Number of unique users: {unique_users}\")\n",
    "print(f\"Number of unique rated movies: {unique_rated_movies}\")"
   ]
  },
  {
   "cell_type": "code",
   "execution_count": 10,
   "metadata": {},
   "outputs": [
    {
     "data": {
      "image/png": "[encoded data removed]",
      "text/plain": [
       "<Figure size 1440x720 with 1 Axes>"
      ]
     },
     "metadata": {
      "needs_background": "light"
     },
     "output_type": "display_data"
    },
    {
     "data": {
      "image/png": "[encoded data removed]",
      "text/plain": [
       "<Figure size 1440x720 with 1 Axes>"
      ]
     },
     "metadata": {
      "needs_background": "light"
     },
     "output_type": "display_data"
    },
    {
     "data": {
      "image/png": "[encoded data removed]",
      "text/plain": [
       "<Figure size 1440x720 with 1 Axes>"
      ]
     },
     "metadata": {
      "needs_background": "light"
     },
     "output_type": "display_data"
    }
   ],
   "source": [
    "# Visualise the vote_average column\n",
    "plt.figure(figsize=(20, 10))\n",
    "sns.histplot(movies_metadata['vote_average'].dropna(), bins=20, edgecolor='k', alpha=0.7)\n",
    "plt.title('Distribution of Vote Average')\n",
    "plt.xlabel('Vote Average')\n",
    "plt.ylabel('Frequency')\n",
    "plt.grid(True)\n",
    "plt.show()\n",
    "\n",
    "# Visualise the vote_count column\n",
    "plt.figure(figsize=(20, 10))\n",
    "sns.histplot(movies_metadata['vote_count'].dropna(), bins=20, edgecolor='k', alpha=0.7)\n",
    "plt.title('Distribution of Vote Count')\n",
    "plt.xlabel('Vote Count')\n",
    "plt.ylabel('Frequency')\n",
    "plt.grid(True)\n",
    "plt.show()\n",
    "\n",
    "#visualise the distribution of the rating column\n",
    "plt.figure(figsize=(20, 10))\n",
    "plt.hist(ratings['rating'].dropna(), bins=10, edgecolor='k', alpha=0.7)\n",
    "plt.title('Distribution of Ratings')\n",
    "plt.ylabel('Frequency')\n",
    "plt.grid(True)\n",
    "plt.show()"
   ]
  },
  {
   "cell_type": "markdown",
   "metadata": {},
   "source": [
    "# Building a simple recommender based on popularity or highest rating"
   ]
  },
  {
   "cell_type": "markdown",
   "metadata": {},
   "source": [
    "A recommender is any system that generates suggestions for an end user. We will start with creating the simplest recommender, one that ranks all movies according to the highest average score, or the highest number of votes.\n",
    "This kind of recommender generates the same output for anyone using it"
   ]
  },
  {
   "cell_type": "code",
   "execution_count": 11,
   "metadata": {},
   "outputs": [],
   "source": [
    "def simple_recommender(movies_metadata, criterion='vote_average', top_n=10):\n",
    "    \"\"\"\n",
    "    Generate a simple recommender based on the specified criterion.\n",
    "    \n",
    "    Parameters:\n",
    "    - movies_metadata (DataFrame): DataFrame containing movie metadata.\n",
    "    - criterion (str): Criterion to base recommendations on ('vote_average' or 'vote_count').\n",
    "    - top_n (int): Number of top movies to recommend.\n",
    "    \n",
    "    Returns:\n",
    "    - DataFrame: Top recommended movies based on the specified criterion.\n",
    "    \"\"\"\n",
    "    if criterion not in ['vote_average', 'vote_count']:\n",
    "        raise ValueError(\"Criterion must be either 'vote_average' or 'vote_count'\")\n",
    "    \n",
    "    # Sort movies by the specified criterion in descending order\n",
    "    recommended_movies = movies_metadata.sort_values(by=criterion, ascending=False)\n",
    "    \n",
    "    # Select the top N movies\n",
    "    top_recommended_movies = recommended_movies.head(top_n)\n",
    "    \n",
    "    return top_recommended_movies[['movie_id', 'title', 'overview', criterion]]"
   ]
  },
  {
   "cell_type": "code",
   "execution_count": 12,
   "metadata": {},
   "outputs": [
    {
     "data": {
      "text/html": [
       "<div>\n",
       "<style scoped>\n",
       "    .dataframe tbody tr th:only-of-type {\n",
       "        vertical-align: middle;\n",
       "    }\n",
       "\n",
       "    .dataframe tbody tr th {\n",
       "        vertical-align: top;\n",
       "    }\n",
       "\n",
       "    .dataframe thead th {\n",
       "        text-align: right;\n",
       "    }\n",
       "</style>\n",
       "<table border=\"1\" class=\"dataframe\">\n",
       "  <thead>\n",
       "    <tr style=\"text-align: right;\">\n",
       "      <th></th>\n",
       "      <th>movie_id</th>\n",
       "      <th>title</th>\n",
       "      <th>overview</th>\n",
       "      <th>vote_average</th>\n",
       "    </tr>\n",
       "  </thead>\n",
       "  <tbody>\n",
       "    <tr>\n",
       "      <th>430</th>\n",
       "      <td>2751904.0</td>\n",
       "      <td>Survive and Advance</td>\n",
       "      <td>In 1983, the NC State Wolfpack, coached by Jim...</td>\n",
       "      <td>10.0</td>\n",
       "    </tr>\n",
       "    <tr>\n",
       "      <th>2882</th>\n",
       "      <td>113270.0</td>\n",
       "      <td>The Haunted World of Edward D. Wood, Jr.</td>\n",
       "      <td>The strange life and the wonderfully awful fil...</td>\n",
       "      <td>10.0</td>\n",
       "    </tr>\n",
       "    <tr>\n",
       "      <th>8907</th>\n",
       "      <td>114241.0</td>\n",
       "      <td>Reckless</td>\n",
       "      <td>On Christmas eve, a relentlessly cheerful woma...</td>\n",
       "      <td>10.0</td>\n",
       "    </tr>\n",
       "    <tr>\n",
       "      <th>873</th>\n",
       "      <td>118925.0</td>\n",
       "      <td>Dancer, Texas Pop. 81</td>\n",
       "      <td>Four guys, best friends, have grown up togethe...</td>\n",
       "      <td>10.0</td>\n",
       "    </tr>\n",
       "    <tr>\n",
       "      <th>6603</th>\n",
       "      <td>79278.0</td>\n",
       "      <td>Chilly Scenes of Winter</td>\n",
       "      <td>A man falls for a separated woman but can't co...</td>\n",
       "      <td>10.0</td>\n",
       "    </tr>\n",
       "    <tr>\n",
       "      <th>8363</th>\n",
       "      <td>109381.0</td>\n",
       "      <td>Carmen Miranda: Bananas Is My Business</td>\n",
       "      <td>A biography of the Portuguese-Brazilian singer...</td>\n",
       "      <td>10.0</td>\n",
       "    </tr>\n",
       "    <tr>\n",
       "      <th>7463</th>\n",
       "      <td>97099.0</td>\n",
       "      <td>Common Threads: Stories from the Quilt</td>\n",
       "      <td>In the late 1970s, a mysterious new disease be...</td>\n",
       "      <td>10.0</td>\n",
       "    </tr>\n",
       "    <tr>\n",
       "      <th>1910</th>\n",
       "      <td>98769.0</td>\n",
       "      <td>The Civil War</td>\n",
       "      <td>This highly acclaimed mini series traces the c...</td>\n",
       "      <td>9.2</td>\n",
       "    </tr>\n",
       "    <tr>\n",
       "      <th>6136</th>\n",
       "      <td>81846.0</td>\n",
       "      <td>Cosmos</td>\n",
       "      <td>Astronomer Dr. Carl Sagan is host and narrator...</td>\n",
       "      <td>9.1</td>\n",
       "    </tr>\n",
       "    <tr>\n",
       "      <th>5441</th>\n",
       "      <td>2042520.0</td>\n",
       "      <td>Family Band: The Cowsills Story</td>\n",
       "      <td>The story of the Cowsills, an American band co...</td>\n",
       "      <td>9.0</td>\n",
       "    </tr>\n",
       "  </tbody>\n",
       "</table>\n",
       "</div>"
      ],
      "text/plain": [
       "       movie_id                                     title  \\\n",
       "430   2751904.0                       Survive and Advance   \n",
       "2882   113270.0  The Haunted World of Edward D. Wood, Jr.   \n",
       "8907   114241.0                                  Reckless   \n",
       "873    118925.0                     Dancer, Texas Pop. 81   \n",
       "6603    79278.0                   Chilly Scenes of Winter   \n",
       "8363   109381.0    Carmen Miranda: Bananas Is My Business   \n",
       "7463    97099.0    Common Threads: Stories from the Quilt   \n",
       "1910    98769.0                             The Civil War   \n",
       "6136    81846.0                                    Cosmos   \n",
       "5441  2042520.0           Family Band: The Cowsills Story   \n",
       "\n",
       "                                               overview  vote_average  \n",
       "430   In 1983, the NC State Wolfpack, coached by Jim...          10.0  \n",
       "2882  The strange life and the wonderfully awful fil...          10.0  \n",
       "8907  On Christmas eve, a relentlessly cheerful woma...          10.0  \n",
       "873   Four guys, best friends, have grown up togethe...          10.0  \n",
       "6603  A man falls for a separated woman but can't co...          10.0  \n",
       "8363  A biography of the Portuguese-Brazilian singer...          10.0  \n",
       "7463  In the late 1970s, a mysterious new disease be...          10.0  \n",
       "1910  This highly acclaimed mini series traces the c...           9.2  \n",
       "6136  Astronomer Dr. Carl Sagan is host and narrator...           9.1  \n",
       "5441  The story of the Cowsills, an American band co...           9.0  "
      ]
     },
     "execution_count": 12,
     "metadata": {},
     "output_type": "execute_result"
    }
   ],
   "source": [
    "top_movies_by_average=simple_recommender(movies_metadata, criterion='vote_average', top_n=10)\n",
    "top_movies_by_average"
   ]
  },
  {
   "cell_type": "code",
   "execution_count": 13,
   "metadata": {},
   "outputs": [
    {
     "data": {
      "text/html": [
       "<div>\n",
       "<style scoped>\n",
       "    .dataframe tbody tr th:only-of-type {\n",
       "        vertical-align: middle;\n",
       "    }\n",
       "\n",
       "    .dataframe tbody tr th {\n",
       "        vertical-align: top;\n",
       "    }\n",
       "\n",
       "    .dataframe thead th {\n",
       "        text-align: right;\n",
       "    }\n",
       "</style>\n",
       "<table border=\"1\" class=\"dataframe\">\n",
       "  <thead>\n",
       "    <tr style=\"text-align: right;\">\n",
       "      <th></th>\n",
       "      <th>movie_id</th>\n",
       "      <th>title</th>\n",
       "      <th>overview</th>\n",
       "      <th>vote_count</th>\n",
       "    </tr>\n",
       "  </thead>\n",
       "  <tbody>\n",
       "    <tr>\n",
       "      <th>67</th>\n",
       "      <td>1375666.0</td>\n",
       "      <td>Inception</td>\n",
       "      <td>Cobb, a skilled thief who commits corporate es...</td>\n",
       "      <td>14075.0</td>\n",
       "    </tr>\n",
       "    <tr>\n",
       "      <th>5577</th>\n",
       "      <td>468569.0</td>\n",
       "      <td>The Dark Knight</td>\n",
       "      <td>Batman raises the stakes in his war on crime. ...</td>\n",
       "      <td>12269.0</td>\n",
       "    </tr>\n",
       "    <tr>\n",
       "      <th>5761</th>\n",
       "      <td>499549.0</td>\n",
       "      <td>Avatar</td>\n",
       "      <td>In the 22nd century, a paraplegic Marine is di...</td>\n",
       "      <td>12114.0</td>\n",
       "    </tr>\n",
       "    <tr>\n",
       "      <th>8033</th>\n",
       "      <td>848228.0</td>\n",
       "      <td>The Avengers</td>\n",
       "      <td>When an unexpected enemy emerges and threatens...</td>\n",
       "      <td>12000.0</td>\n",
       "    </tr>\n",
       "    <tr>\n",
       "      <th>6935</th>\n",
       "      <td>1431045.0</td>\n",
       "      <td>Deadpool</td>\n",
       "      <td>Deadpool tells the origin story of former Spec...</td>\n",
       "      <td>11444.0</td>\n",
       "    </tr>\n",
       "    <tr>\n",
       "      <th>278</th>\n",
       "      <td>816692.0</td>\n",
       "      <td>Interstellar</td>\n",
       "      <td>Interstellar chronicles the adventures of a gr...</td>\n",
       "      <td>11187.0</td>\n",
       "    </tr>\n",
       "    <tr>\n",
       "      <th>6711</th>\n",
       "      <td>1853728.0</td>\n",
       "      <td>Django Unchained</td>\n",
       "      <td>With the help of a German bounty hunter, a fre...</td>\n",
       "      <td>10297.0</td>\n",
       "    </tr>\n",
       "    <tr>\n",
       "      <th>1360</th>\n",
       "      <td>2015381.0</td>\n",
       "      <td>Guardians of the Galaxy</td>\n",
       "      <td>Light years from Earth, 26 years after being a...</td>\n",
       "      <td>10014.0</td>\n",
       "    </tr>\n",
       "    <tr>\n",
       "      <th>7828</th>\n",
       "      <td>137523.0</td>\n",
       "      <td>Fight Club</td>\n",
       "      <td>A ticking-time-bomb insomniac and a slippery s...</td>\n",
       "      <td>9678.0</td>\n",
       "    </tr>\n",
       "    <tr>\n",
       "      <th>4484</th>\n",
       "      <td>1392170.0</td>\n",
       "      <td>The Hunger Games</td>\n",
       "      <td>Every year in the ruins of what was once North...</td>\n",
       "      <td>9634.0</td>\n",
       "    </tr>\n",
       "  </tbody>\n",
       "</table>\n",
       "</div>"
      ],
      "text/plain": [
       "       movie_id                    title  \\\n",
       "67    1375666.0                Inception   \n",
       "5577   468569.0          The Dark Knight   \n",
       "5761   499549.0                   Avatar   \n",
       "8033   848228.0             The Avengers   \n",
       "6935  1431045.0                 Deadpool   \n",
       "278    816692.0             Interstellar   \n",
       "6711  1853728.0         Django Unchained   \n",
       "1360  2015381.0  Guardians of the Galaxy   \n",
       "7828   137523.0               Fight Club   \n",
       "4484  1392170.0         The Hunger Games   \n",
       "\n",
       "                                               overview  vote_count  \n",
       "67    Cobb, a skilled thief who commits corporate es...     14075.0  \n",
       "5577  Batman raises the stakes in his war on crime. ...     12269.0  \n",
       "5761  In the 22nd century, a paraplegic Marine is di...     12114.0  \n",
       "8033  When an unexpected enemy emerges and threatens...     12000.0  \n",
       "6935  Deadpool tells the origin story of former Spec...     11444.0  \n",
       "278   Interstellar chronicles the adventures of a gr...     11187.0  \n",
       "6711  With the help of a German bounty hunter, a fre...     10297.0  \n",
       "1360  Light years from Earth, 26 years after being a...     10014.0  \n",
       "7828  A ticking-time-bomb insomniac and a slippery s...      9678.0  \n",
       "4484  Every year in the ruins of what was once North...      9634.0  "
      ]
     },
     "execution_count": 13,
     "metadata": {},
     "output_type": "execute_result"
    }
   ],
   "source": [
    "top_movies_by_count=simple_recommender(movies_metadata, criterion='vote_count', top_n=10)\n",
    "top_movies_by_count"
   ]
  },
  {
   "cell_type": "markdown",
   "metadata": {},
   "source": [
    "# Generate recommendations based on user ratings"
   ]
  },
  {
   "cell_type": "code",
   "execution_count": 14,
   "metadata": {},
   "outputs": [],
   "source": [
    "from sklearn.metrics.pairwise import cosine_similarity\n",
    "# from sklearn.feature_extraction.text import TfidfVectorizer"
   ]
  },
  {
   "cell_type": "code",
   "execution_count": 15,
   "metadata": {},
   "outputs": [],
   "source": [
    "def create_user_based_recommender(movies_metadata, ratings, movie_title, top_n=10):\n",
    "    # Merge movies_metadata with ratings\n",
    "    movie_ratings = pd.merge(ratings, movies_metadata, on='movie_id')\n",
    "    \n",
    "    # Create pivot table with users as rows, movies as columns and ratings as values\n",
    "    user_movie_matrix = movie_ratings.pivot_table(index='user_id', columns='title', values='rating')\n",
    "    \n",
    "    # Fill NaN values with 0 (assuming unrated movies have a rating of 0)\n",
    "    user_movie_matrix.fillna(0, inplace=True)\n",
    "    \n",
    "    # Compute the cosine similarity index\n",
    "    movie_similarity = cosine_similarity(user_movie_matrix.T)\n",
    "    \n",
    "    # Convert the similarity matrix to a DataFrame\n",
    "    movie_similarity_df = pd.DataFrame(movie_similarity, index=user_movie_matrix.columns,\n",
    "                                       columns=user_movie_matrix.columns)\n",
    "    \n",
    "    # Get the list of similar movies\n",
    "    similar_movies = movie_similarity_df[movie_title].sort_values(ascending=False)[1:top_n+1]\n",
    "    \n",
    "    return similar_movies"
   ]
  },
  {
   "cell_type": "code",
   "execution_count": 16,
   "metadata": {},
   "outputs": [
    {
     "data": {
      "text/plain": [
       "title\n",
       "The Godfather: Part II             0.773685\n",
       "GoodFellas                         0.620349\n",
       "One Flew Over the Cuckoo's Nest    0.568244\n",
       "American Beauty                    0.557997\n",
       "Star Wars                          0.546750\n",
       "Raiders of the Lost Ark            0.538185\n",
       "Saving Private Ryan                0.534684\n",
       "Apocalypse Now                     0.534347\n",
       "Reservoir Dogs                     0.531713\n",
       "The Usual Suspects                 0.530727\n",
       "Name: The Godfather, dtype: float64"
      ]
     },
     "execution_count": 16,
     "metadata": {},
     "output_type": "execute_result"
    }
   ],
   "source": [
    "movie_title = 'The Godfather' # Replace with the movie title you want to get recommendations for\n",
    "recommended_movies = create_user_based_recommender(movies_metadata, ratings, movie_title, top_n=10)\n",
    "recommended_movies"
   ]
  },
  {
   "cell_type": "markdown",
   "metadata": {},
   "source": [
    "# Generate embedding similarity to generate movie recommendations"
   ]
  },
  {
   "cell_type": "code",
   "execution_count": 14,
   "metadata": {},
   "outputs": [
    {
     "name": "stdout",
     "output_type": "stream",
     "text": [
      "Requirement already satisfied: sentence-transformers in c:\\programdata\\anaconda3\\lib\\site-packages (3.2.1)\n",
      "Requirement already satisfied: scipy in c:\\programdata\\anaconda3\\lib\\site-packages (from sentence-transformers) (1.5.2)\n",
      "Requirement already satisfied: Pillow in c:\\programdata\\anaconda3\\lib\\site-packages (from sentence-transformers) (8.0.1)\n",
      "Requirement already satisfied: huggingface-hub>=0.20.0 in c:\\programdata\\anaconda3\\lib\\site-packages (from sentence-transformers) (0.28.1)\n",
      "Requirement already satisfied: scikit-learn in c:\\programdata\\anaconda3\\lib\\site-packages (from sentence-transformers) (0.23.2)\n",
      "Requirement already satisfied: torch>=1.11.0 in c:\\programdata\\anaconda3\\lib\\site-packages (from sentence-transformers) (2.4.1)\n",
      "Requirement already satisfied: transformers<5.0.0,>=4.41.0 in c:\\programdata\\anaconda3\\lib\\site-packages (from sentence-transformers) (4.46.3)\n",
      "Requirement already satisfied: tqdm in c:\\programdata\\anaconda3\\lib\\site-packages (from sentence-transformers) (4.50.2)\n",
      "Requirement already satisfied: numpy>=1.14.5 in c:\\programdata\\anaconda3\\lib\\site-packages (from scipy->sentence-transformers) (1.19.2)\n",
      "Requirement already satisfied: pyyaml>=5.1 in c:\\programdata\\anaconda3\\lib\\site-packages (from huggingface-hub>=0.20.0->sentence-transformers) (5.3.1)\n",
      "Requirement already satisfied: fsspec>=2023.5.0 in c:\\programdata\\anaconda3\\lib\\site-packages (from huggingface-hub>=0.20.0->sentence-transformers) (2024.12.0)\n",
      "Requirement already satisfied: packaging>=20.9 in c:\\programdata\\anaconda3\\lib\\site-packages (from huggingface-hub>=0.20.0->sentence-transformers) (24.2)\n",
      "Requirement already satisfied: filelock in c:\\programdata\\anaconda3\\lib\\site-packages (from huggingface-hub>=0.20.0->sentence-transformers) (3.0.12)\n",
      "Requirement already satisfied: requests in c:\\programdata\\anaconda3\\lib\\site-packages (from huggingface-hub>=0.20.0->sentence-transformers) (2.24.0)\n",
      "Requirement already satisfied: typing-extensions>=3.7.4.3 in c:\\programdata\\anaconda3\\lib\\site-packages (from huggingface-hub>=0.20.0->sentence-transformers) (4.8.0)\n",
      "Requirement already satisfied: threadpoolctl>=2.0.0 in c:\\programdata\\anaconda3\\lib\\site-packages (from scikit-learn->sentence-transformers) (2.1.0)\n",
      "Requirement already satisfied: joblib>=0.11 in c:\\programdata\\anaconda3\\lib\\site-packages (from scikit-learn->sentence-transformers) (0.17.0)\n",
      "Requirement already satisfied: jinja2 in c:\\programdata\\anaconda3\\lib\\site-packages (from torch>=1.11.0->sentence-transformers) (2.11.2)\n",
      "Requirement already satisfied: networkx in c:\\programdata\\anaconda3\\lib\\site-packages (from torch>=1.11.0->sentence-transformers) (2.5)\n",
      "Requirement already satisfied: sympy in c:\\programdata\\anaconda3\\lib\\site-packages (from torch>=1.11.0->sentence-transformers) (1.6.2)\n",
      "Requirement already satisfied: regex!=2019.12.17 in c:\\programdata\\anaconda3\\lib\\site-packages (from transformers<5.0.0,>=4.41.0->sentence-transformers) (2020.10.15)\n",
      "Requirement already satisfied: safetensors>=0.4.1 in c:\\programdata\\anaconda3\\lib\\site-packages (from transformers<5.0.0,>=4.41.0->sentence-transformers) (0.5.2)\n",
      "Requirement already satisfied: tokenizers<0.21,>=0.20 in c:\\programdata\\anaconda3\\lib\\site-packages (from transformers<5.0.0,>=4.41.0->sentence-transformers) (0.20.3)\n",
      "Requirement already satisfied: idna<3,>=2.5 in c:\\programdata\\anaconda3\\lib\\site-packages (from requests->huggingface-hub>=0.20.0->sentence-transformers) (2.10)\n",
      "Requirement already satisfied: certifi>=2017.4.17 in c:\\programdata\\anaconda3\\lib\\site-packages (from requests->huggingface-hub>=0.20.0->sentence-transformers) (2020.6.20)\n",
      "Requirement already satisfied: chardet<4,>=3.0.2 in c:\\programdata\\anaconda3\\lib\\site-packages (from requests->huggingface-hub>=0.20.0->sentence-transformers) (3.0.4)\n",
      "Requirement already satisfied: urllib3!=1.25.0,!=1.25.1,<1.26,>=1.21.1 in c:\\programdata\\anaconda3\\lib\\site-packages (from requests->huggingface-hub>=0.20.0->sentence-transformers) (1.25.11)\n",
      "Requirement already satisfied: MarkupSafe>=0.23 in c:\\programdata\\anaconda3\\lib\\site-packages (from jinja2->torch>=1.11.0->sentence-transformers) (1.1.1)\n",
      "Requirement already satisfied: decorator>=4.3.0 in c:\\programdata\\anaconda3\\lib\\site-packages (from networkx->torch>=1.11.0->sentence-transformers) (4.4.2)\n",
      "Requirement already satisfied: mpmath>=0.19 in c:\\programdata\\anaconda3\\lib\\site-packages (from sympy->torch>=1.11.0->sentence-transformers) (1.1.0)\n"
     ]
    }
   ],
   "source": [
    "# !pip install sentence-transformers"
   ]
  },
  {
   "cell_type": "code",
   "execution_count": 2,
   "metadata": {},
   "outputs": [
    {
     "name": "stdout",
     "output_type": "stream",
     "text": [
      "Looking in indexes: https://download.pytorch.org/whl/cpu\n",
      "Requirement already satisfied: torch in c:\\programdata\\anaconda3\\lib\\site-packages (2.4.1)\n",
      "Requirement already satisfied: torchvision in c:\\programdata\\anaconda3\\lib\\site-packages (0.19.1+cpu)\n",
      "Requirement already satisfied: torchaudio in c:\\programdata\\anaconda3\\lib\\site-packages (2.4.1+cpu)\n",
      "Requirement already satisfied: typing-extensions>=4.8.0 in c:\\programdata\\anaconda3\\lib\\site-packages (from torch) (4.8.0)\n",
      "Requirement already satisfied: fsspec in c:\\programdata\\anaconda3\\lib\\site-packages (from torch) (2024.12.0)\n",
      "Requirement already satisfied: networkx in c:\\programdata\\anaconda3\\lib\\site-packages (from torch) (2.5)\n",
      "Requirement already satisfied: jinja2 in c:\\programdata\\anaconda3\\lib\\site-packages (from torch) (2.11.2)\n",
      "Requirement already satisfied: filelock in c:\\programdata\\anaconda3\\lib\\site-packages (from torch) (3.0.12)\n",
      "Requirement already satisfied: sympy in c:\\programdata\\anaconda3\\lib\\site-packages (from torch) (1.6.2)\n",
      "Requirement already satisfied: pillow!=8.3.*,>=5.3.0 in c:\\programdata\\anaconda3\\lib\\site-packages (from torchvision) (8.0.1)\n",
      "Requirement already satisfied: numpy in c:\\programdata\\anaconda3\\lib\\site-packages (from torchvision) (1.19.2)\n",
      "Requirement already satisfied: decorator>=4.3.0 in c:\\programdata\\anaconda3\\lib\\site-packages (from networkx->torch) (4.4.2)\n",
      "Requirement already satisfied: MarkupSafe>=0.23 in c:\\programdata\\anaconda3\\lib\\site-packages (from jinja2->torch) (1.1.1)\n",
      "Requirement already satisfied: mpmath>=0.19 in c:\\programdata\\anaconda3\\lib\\site-packages (from sympy->torch) (1.1.0)\n",
      "Note: you may need to restart the kernel to use updated packages.\n"
     ]
    }
   ],
   "source": [
    "# pip install torch torchvision torchaudio --index-url https://download.pytorch.org/whl/cpu"
   ]
  },
  {
   "cell_type": "code",
   "execution_count": 1,
   "metadata": {},
   "outputs": [
    {
     "name": "stdout",
     "output_type": "stream",
     "text": [
      "^C\n",
      "Note: you may need to restart the kernel to use updated packages.\n"
     ]
    }
   ],
   "source": [
    "# pip uninstall torch torchvision torchaudio"
   ]
  },
  {
   "cell_type": "code",
   "execution_count": 1,
   "metadata": {},
   "outputs": [
    {
     "name": "stderr",
     "output_type": "stream",
     "text": [
      "C:\\ProgramData\\Anaconda3\\lib\\site-packages\\sentence_transformers\\cross_encoder\\CrossEncoder.py:13: TqdmExperimentalWarning: Using `tqdm.autonotebook.tqdm` in notebook mode. Use `tqdm.tqdm` instead to force console mode (e.g. in jupyter console)\n",
      "  from tqdm.autonotebook import tqdm, trange\n"
     ]
    }
   ],
   "source": [
    "from sentence_transformers import SentenceTransformer\n",
    "import pandas as pd\n",
    "from tqdm import tqdm"
   ]
  },
  {
   "cell_type": "code",
   "execution_count": 2,
   "metadata": {},
   "outputs": [
    {
     "data": {
      "application/vnd.jupyter.widget-view+json": {
       "model_id": "604c7c5ce36a4285addca53fab801442",
       "version_major": 2,
       "version_minor": 0
      },
      "text/plain": [
       "HBox(children=(HTML(value='modules.json'), FloatProgress(value=0.0, max=349.0), HTML(value='')))"
      ]
     },
     "metadata": {},
     "output_type": "display_data"
    },
    {
     "name": "stdout",
     "output_type": "stream",
     "text": [
      "\n"
     ]
    },
    {
     "name": "stderr",
     "output_type": "stream",
     "text": [
      "C:\\ProgramData\\Anaconda3\\lib\\site-packages\\huggingface_hub\\file_download.py:140: UserWarning: `huggingface_hub` cache-system uses symlinks by default to efficiently store duplicated files but your machine does not support them in C:\\Users\\HP\\.cache\\huggingface\\hub\\models--sentence-transformers--all-MiniLM-L6-v2. Caching files will still work but in a degraded version that might require more space on your disk. This warning can be disabled by setting the `HF_HUB_DISABLE_SYMLINKS_WARNING` environment variable. For more details, see https://huggingface.co/docs/huggingface_hub/how-to-cache#limitations.\n",
      "To support symlinks on Windows, you either need to activate Developer Mode or to run Python as an administrator. In order to activate developer mode, see this article: https://docs.microsoft.com/en-us/windows/apps/get-started/enable-your-device-for-development\n",
      "  warnings.warn(message)\n"
     ]
    },
    {
     "data": {
      "application/vnd.jupyter.widget-view+json": {
       "model_id": "b543416ba45740f2ab18d44094d03492",
       "version_major": 2,
       "version_minor": 0
      },
      "text/plain": [
       "HBox(children=(HTML(value='config_sentence_transformers.json'), FloatProgress(value=0.0, max=116.0), HTML(valu…"
      ]
     },
     "metadata": {},
     "output_type": "display_data"
    },
    {
     "name": "stdout",
     "output_type": "stream",
     "text": [
      "\n"
     ]
    },
    {
     "data": {
      "application/vnd.jupyter.widget-view+json": {
       "model_id": "74daa8acb27b4f6cbbada36ae3c59f90",
       "version_major": 2,
       "version_minor": 0
      },
      "text/plain": [
       "HBox(children=(HTML(value='README.md'), FloatProgress(value=0.0, max=10659.0), HTML(value='')))"
      ]
     },
     "metadata": {},
     "output_type": "display_data"
    },
    {
     "name": "stdout",
     "output_type": "stream",
     "text": [
      "\n"
     ]
    },
    {
     "data": {
      "application/vnd.jupyter.widget-view+json": {
       "model_id": "d9f88b6407fd42ebb34e603091c05b48",
       "version_major": 2,
       "version_minor": 0
      },
      "text/plain": [
       "HBox(children=(HTML(value='sentence_bert_config.json'), FloatProgress(value=0.0, max=53.0), HTML(value='')))"
      ]
     },
     "metadata": {},
     "output_type": "display_data"
    },
    {
     "name": "stdout",
     "output_type": "stream",
     "text": [
      "\n"
     ]
    },
    {
     "data": {
      "application/vnd.jupyter.widget-view+json": {
       "model_id": "d538c7bd9e0344b091203e52db6dfa06",
       "version_major": 2,
       "version_minor": 0
      },
      "text/plain": [
       "HBox(children=(HTML(value='config.json'), FloatProgress(value=0.0, max=612.0), HTML(value='')))"
      ]
     },
     "metadata": {},
     "output_type": "display_data"
    },
    {
     "name": "stdout",
     "output_type": "stream",
     "text": [
      "\n"
     ]
    },
    {
     "data": {
      "application/vnd.jupyter.widget-view+json": {
       "model_id": "1ce0462a04f641968745880d2bc4ce7d",
       "version_major": 2,
       "version_minor": 0
      },
      "text/plain": [
       "HBox(children=(HTML(value='model.safetensors'), FloatProgress(value=0.0, max=90868376.0), HTML(value='')))"
      ]
     },
     "metadata": {},
     "output_type": "display_data"
    },
    {
     "name": "stdout",
     "output_type": "stream",
     "text": [
      "\n"
     ]
    },
    {
     "data": {
      "application/vnd.jupyter.widget-view+json": {
       "model_id": "3a30d31f05934c14b3739891592e1b0b",
       "version_major": 2,
       "version_minor": 0
      },
      "text/plain": [
       "HBox(children=(HTML(value='tokenizer_config.json'), FloatProgress(value=0.0, max=350.0), HTML(value='')))"
      ]
     },
     "metadata": {},
     "output_type": "display_data"
    },
    {
     "name": "stdout",
     "output_type": "stream",
     "text": [
      "\n"
     ]
    },
    {
     "data": {
      "application/vnd.jupyter.widget-view+json": {
       "model_id": "1115f47713c945e4bc9e9807c6a0fa4e",
       "version_major": 2,
       "version_minor": 0
      },
      "text/plain": [
       "HBox(children=(HTML(value='vocab.txt'), FloatProgress(value=0.0, max=231508.0), HTML(value='')))"
      ]
     },
     "metadata": {},
     "output_type": "display_data"
    },
    {
     "name": "stdout",
     "output_type": "stream",
     "text": [
      "\n"
     ]
    },
    {
     "data": {
      "application/vnd.jupyter.widget-view+json": {
       "model_id": "6f755bdcbae44f59a38a25812db43460",
       "version_major": 2,
       "version_minor": 0
      },
      "text/plain": [
       "HBox(children=(HTML(value='tokenizer.json'), FloatProgress(value=0.0, max=466247.0), HTML(value='')))"
      ]
     },
     "metadata": {},
     "output_type": "display_data"
    },
    {
     "name": "stdout",
     "output_type": "stream",
     "text": [
      "\n"
     ]
    },
    {
     "data": {
      "application/vnd.jupyter.widget-view+json": {
       "model_id": "a42ae118a489430b89928cc64989017c",
       "version_major": 2,
       "version_minor": 0
      },
      "text/plain": [
       "HBox(children=(HTML(value='special_tokens_map.json'), FloatProgress(value=0.0, max=112.0), HTML(value='')))"
      ]
     },
     "metadata": {},
     "output_type": "display_data"
    },
    {
     "name": "stdout",
     "output_type": "stream",
     "text": [
      "\n"
     ]
    },
    {
     "data": {
      "application/vnd.jupyter.widget-view+json": {
       "model_id": "a6219409ee0347da906bdd536345f259",
       "version_major": 2,
       "version_minor": 0
      },
      "text/plain": [
       "HBox(children=(HTML(value='1_Pooling/config.json'), FloatProgress(value=0.0, max=190.0), HTML(value='')))"
      ]
     },
     "metadata": {},
     "output_type": "display_data"
    },
    {
     "name": "stdout",
     "output_type": "stream",
     "text": [
      "\n"
     ]
    }
   ],
   "source": [
    "# Load a pre-trained model from Sentence Transformers\n",
    "model = SentenceTransformer('all-MiniLM-L6-v2')"
   ]
  },
  {
   "cell_type": "code",
   "execution_count": 17,
   "metadata": {},
   "outputs": [
    {
     "name": "stderr",
     "output_type": "stream",
     "text": [
      "C:\\ProgramData\\Anaconda3\\lib\\site-packages\\tqdm\\std.py:697: FutureWarning: The Panel class is removed from pandas. Accessing it from the top-level namespace will also be removed in the next version\n",
      "  from pandas import Panel\n",
      "Generating embeddings: 100%|██████████| 9010/9010 [06:05<00:00, 24.63it/s]\n"
     ]
    }
   ],
   "source": [
    "# Ensure the 'overview' column is filled with strings\n",
    "movies_metadata['overview'] = movies_metadata['overview'].fillna('').astype(str)\n",
    "\n",
    "# Generate embeddings for each movie overview\n",
    "tqdm.pandas(desc=\"Generating embeddings\")\n",
    "movies_metadata['embedding'] = movies_metadata['overview'].progress_apply(lambda x: model.encode(x).tolist())"
   ]
  },
  {
   "cell_type": "code",
   "execution_count": 18,
   "metadata": {},
   "outputs": [
    {
     "data": {
      "text/html": [
       "<div>\n",
       "<style scoped>\n",
       "    .dataframe tbody tr th:only-of-type {\n",
       "        vertical-align: middle;\n",
       "    }\n",
       "\n",
       "    .dataframe tbody tr th {\n",
       "        vertical-align: top;\n",
       "    }\n",
       "\n",
       "    .dataframe thead th {\n",
       "        text-align: right;\n",
       "    }\n",
       "</style>\n",
       "<table border=\"1\" class=\"dataframe\">\n",
       "  <thead>\n",
       "    <tr style=\"text-align: right;\">\n",
       "      <th></th>\n",
       "      <th>movie_id</th>\n",
       "      <th>title</th>\n",
       "      <th>overview</th>\n",
       "      <th>vote_average</th>\n",
       "      <th>vote_count</th>\n",
       "      <th>embedding</th>\n",
       "    </tr>\n",
       "  </thead>\n",
       "  <tbody>\n",
       "    <tr>\n",
       "      <th>0</th>\n",
       "      <td>95765.0</td>\n",
       "      <td>Cinema Paradiso</td>\n",
       "      <td>A filmmaker recalls his childhood, when he fel...</td>\n",
       "      <td>8.2</td>\n",
       "      <td>834.0</td>\n",
       "      <td>[-0.0542561374604702, -0.031655214726924896, -...</td>\n",
       "    </tr>\n",
       "    <tr>\n",
       "      <th>1</th>\n",
       "      <td>67116.0</td>\n",
       "      <td>The French Connection</td>\n",
       "      <td>Tough narcotics detective 'Popeye' Doyle is in...</td>\n",
       "      <td>7.4</td>\n",
       "      <td>435.0</td>\n",
       "      <td>[-0.10362894833087921, -0.08074166625738144, -...</td>\n",
       "    </tr>\n",
       "    <tr>\n",
       "      <th>2</th>\n",
       "      <td>80801.0</td>\n",
       "      <td>The Gods Must Be Crazy</td>\n",
       "      <td>Misery is brought to a small group of Sho in t...</td>\n",
       "      <td>7.1</td>\n",
       "      <td>251.0</td>\n",
       "      <td>[-0.005189950577914715, 0.10656533390283585, 0...</td>\n",
       "    </tr>\n",
       "    <tr>\n",
       "      <th>3</th>\n",
       "      <td>96446.0</td>\n",
       "      <td>Willow</td>\n",
       "      <td>Fearful of a prophecy stating that a girl chil...</td>\n",
       "      <td>6.9</td>\n",
       "      <td>484.0</td>\n",
       "      <td>[-0.01296099741011858, 0.0008763280929997563, ...</td>\n",
       "    </tr>\n",
       "    <tr>\n",
       "      <th>4</th>\n",
       "      <td>112697.0</td>\n",
       "      <td>Clueless</td>\n",
       "      <td>Shallow, rich and socially successful Cher is ...</td>\n",
       "      <td>6.9</td>\n",
       "      <td>828.0</td>\n",
       "      <td>[0.00983126275241375, 0.011321267113089561, 0....</td>\n",
       "    </tr>\n",
       "    <tr>\n",
       "      <th>...</th>\n",
       "      <td>...</td>\n",
       "      <td>...</td>\n",
       "      <td>...</td>\n",
       "      <td>...</td>\n",
       "      <td>...</td>\n",
       "      <td>...</td>\n",
       "    </tr>\n",
       "    <tr>\n",
       "      <th>9005</th>\n",
       "      <td>443489.0</td>\n",
       "      <td>Dreamgirls</td>\n",
       "      <td>Three young women – Deena Jones, Effie White a...</td>\n",
       "      <td>6.6</td>\n",
       "      <td>292.0</td>\n",
       "      <td>[-0.05494531989097595, -0.11685415357351303, -...</td>\n",
       "    </tr>\n",
       "    <tr>\n",
       "      <th>9006</th>\n",
       "      <td>102855.0</td>\n",
       "      <td>Scream of Stone</td>\n",
       "      <td>A meeting of two world famous climbers, one an...</td>\n",
       "      <td>7.5</td>\n",
       "      <td>4.0</td>\n",
       "      <td>[-0.08654404431581497, 0.011550519615411758, -...</td>\n",
       "    </tr>\n",
       "    <tr>\n",
       "      <th>9007</th>\n",
       "      <td>36506.0</td>\n",
       "      <td>Day of Wrath</td>\n",
       "      <td>In a 17th-century Danish village, an old woman...</td>\n",
       "      <td>8.3</td>\n",
       "      <td>41.0</td>\n",
       "      <td>[0.00856681726872921, 0.12342218309640884, -0....</td>\n",
       "    </tr>\n",
       "    <tr>\n",
       "      <th>9008</th>\n",
       "      <td>71583.0</td>\n",
       "      <td>The Groove Tube</td>\n",
       "      <td>Chevy Chase makes his film debut in this rioto...</td>\n",
       "      <td>5.3</td>\n",
       "      <td>3.0</td>\n",
       "      <td>[-0.05006125569343567, 0.030198227614164352, -...</td>\n",
       "    </tr>\n",
       "    <tr>\n",
       "      <th>9009</th>\n",
       "      <td>1567233.0</td>\n",
       "      <td>Forks Over Knives</td>\n",
       "      <td>Examines the profound claim that most, if not ...</td>\n",
       "      <td>7.0</td>\n",
       "      <td>46.0</td>\n",
       "      <td>[0.0022005459759384394, -0.024130122736096382,...</td>\n",
       "    </tr>\n",
       "  </tbody>\n",
       "</table>\n",
       "<p>9010 rows × 6 columns</p>\n",
       "</div>"
      ],
      "text/plain": [
       "       movie_id                   title  \\\n",
       "0       95765.0         Cinema Paradiso   \n",
       "1       67116.0   The French Connection   \n",
       "2       80801.0  The Gods Must Be Crazy   \n",
       "3       96446.0                  Willow   \n",
       "4      112697.0                Clueless   \n",
       "...         ...                     ...   \n",
       "9005   443489.0              Dreamgirls   \n",
       "9006   102855.0         Scream of Stone   \n",
       "9007    36506.0            Day of Wrath   \n",
       "9008    71583.0         The Groove Tube   \n",
       "9009  1567233.0       Forks Over Knives   \n",
       "\n",
       "                                               overview  vote_average  \\\n",
       "0     A filmmaker recalls his childhood, when he fel...           8.2   \n",
       "1     Tough narcotics detective 'Popeye' Doyle is in...           7.4   \n",
       "2     Misery is brought to a small group of Sho in t...           7.1   \n",
       "3     Fearful of a prophecy stating that a girl chil...           6.9   \n",
       "4     Shallow, rich and socially successful Cher is ...           6.9   \n",
       "...                                                 ...           ...   \n",
       "9005  Three young women – Deena Jones, Effie White a...           6.6   \n",
       "9006  A meeting of two world famous climbers, one an...           7.5   \n",
       "9007  In a 17th-century Danish village, an old woman...           8.3   \n",
       "9008  Chevy Chase makes his film debut in this rioto...           5.3   \n",
       "9009  Examines the profound claim that most, if not ...           7.0   \n",
       "\n",
       "      vote_count                                          embedding  \n",
       "0          834.0  [-0.0542561374604702, -0.031655214726924896, -...  \n",
       "1          435.0  [-0.10362894833087921, -0.08074166625738144, -...  \n",
       "2          251.0  [-0.005189950577914715, 0.10656533390283585, 0...  \n",
       "3          484.0  [-0.01296099741011858, 0.0008763280929997563, ...  \n",
       "4          828.0  [0.00983126275241375, 0.011321267113089561, 0....  \n",
       "...          ...                                                ...  \n",
       "9005       292.0  [-0.05494531989097595, -0.11685415357351303, -...  \n",
       "9006         4.0  [-0.08654404431581497, 0.011550519615411758, -...  \n",
       "9007        41.0  [0.00856681726872921, 0.12342218309640884, -0....  \n",
       "9008         3.0  [-0.05006125569343567, 0.030198227614164352, -...  \n",
       "9009        46.0  [0.0022005459759384394, -0.024130122736096382,...  \n",
       "\n",
       "[9010 rows x 6 columns]"
      ]
     },
     "execution_count": 18,
     "metadata": {},
     "output_type": "execute_result"
    }
   ],
   "source": [
    "movies_metadata"
   ]
  },
  {
   "cell_type": "markdown",
   "metadata": {},
   "source": [
    "# Use Embedding Similarity to Generate Recommendations"
   ]
  },
  {
   "cell_type": "code",
   "execution_count": 19,
   "metadata": {},
   "outputs": [
    {
     "data": {
      "text/html": [
       "<div>\n",
       "<style scoped>\n",
       "    .dataframe tbody tr th:only-of-type {\n",
       "        vertical-align: middle;\n",
       "    }\n",
       "\n",
       "    .dataframe tbody tr th {\n",
       "        vertical-align: top;\n",
       "    }\n",
       "\n",
       "    .dataframe thead th {\n",
       "        text-align: right;\n",
       "    }\n",
       "</style>\n",
       "<table border=\"1\" class=\"dataframe\">\n",
       "  <thead>\n",
       "    <tr style=\"text-align: right;\">\n",
       "      <th></th>\n",
       "      <th>title</th>\n",
       "      <th>overview</th>\n",
       "      <th>similarity</th>\n",
       "    </tr>\n",
       "  </thead>\n",
       "  <tbody>\n",
       "    <tr>\n",
       "      <th>137</th>\n",
       "      <td>Tape</td>\n",
       "      <td>A three-character ensemble piece set within th...</td>\n",
       "      <td>0.540018</td>\n",
       "    </tr>\n",
       "    <tr>\n",
       "      <th>3584</th>\n",
       "      <td>Fatal Instinct</td>\n",
       "      <td>A spoof of the late 80s and early 90s suspense...</td>\n",
       "      <td>0.537884</td>\n",
       "    </tr>\n",
       "    <tr>\n",
       "      <th>6869</th>\n",
       "      <td>King Kong</td>\n",
       "      <td>An adventure film about a film crew in search ...</td>\n",
       "      <td>0.522756</td>\n",
       "    </tr>\n",
       "    <tr>\n",
       "      <th>6594</th>\n",
       "      <td>A Most Violent Year</td>\n",
       "      <td>A thriller set in New York City during the win...</td>\n",
       "      <td>0.485806</td>\n",
       "    </tr>\n",
       "    <tr>\n",
       "      <th>1816</th>\n",
       "      <td>Deadfall</td>\n",
       "      <td>A thriller that follows two siblings who decid...</td>\n",
       "      <td>0.481312</td>\n",
       "    </tr>\n",
       "  </tbody>\n",
       "</table>\n",
       "</div>"
      ],
      "text/plain": [
       "                    title                                           overview  \\\n",
       "137                  Tape  A three-character ensemble piece set within th...   \n",
       "3584       Fatal Instinct  A spoof of the late 80s and early 90s suspense...   \n",
       "6869            King Kong  An adventure film about a film crew in search ...   \n",
       "6594  A Most Violent Year  A thriller set in New York City during the win...   \n",
       "1816             Deadfall  A thriller that follows two siblings who decid...   \n",
       "\n",
       "      similarity  \n",
       "137     0.540018  \n",
       "3584    0.537884  \n",
       "6869    0.522756  \n",
       "6594    0.485806  \n",
       "1816    0.481312  "
      ]
     },
     "execution_count": 19,
     "metadata": {},
     "output_type": "execute_result"
    }
   ],
   "source": [
    "from sklearn.metrics.pairwise import cosine_similarity\n",
    "import numpy as np\n",
    "\n",
    "def recommend_movies(description, n=5):\n",
    "    # Generate embedding for the user input\n",
    "    user_embedding = model.encode(description).tolist()\n",
    "    \n",
    "    # Calculate cosine similarity between user input embedding and all movie embeddings\n",
    "    movies_metadata['similarity'] = movies_metadata['embedding'].apply(lambda x: cosine_similarity([user_embedding], [x])[0][0])\n",
    "    \n",
    "    # Sort movies by similarity and get the top n recommendations\n",
    "    recommendations = movies_metadata.sort_values(by='similarity', ascending=False).head(n)\n",
    "    \n",
    "    return recommendations[['title', 'overview', 'similarity']]\n",
    "\n",
    "# Example Usage\n",
    "user_description = \"A thrilling adventure with lots of action and suspense\"\n",
    "recommendations = recommend_movies(user_description, n=5)\n",
    "recommendations"
   ]
  },
  {
   "cell_type": "code",
   "execution_count": 20,
   "metadata": {},
   "outputs": [
    {
     "data": {
      "text/html": [
       "<div>\n",
       "<style scoped>\n",
       "    .dataframe tbody tr th:only-of-type {\n",
       "        vertical-align: middle;\n",
       "    }\n",
       "\n",
       "    .dataframe tbody tr th {\n",
       "        vertical-align: top;\n",
       "    }\n",
       "\n",
       "    .dataframe thead th {\n",
       "        text-align: right;\n",
       "    }\n",
       "</style>\n",
       "<table border=\"1\" class=\"dataframe\">\n",
       "  <thead>\n",
       "    <tr style=\"text-align: right;\">\n",
       "      <th></th>\n",
       "      <th>title</th>\n",
       "      <th>overview</th>\n",
       "      <th>similarity</th>\n",
       "    </tr>\n",
       "  </thead>\n",
       "  <tbody>\n",
       "    <tr>\n",
       "      <th>8402</th>\n",
       "      <td>The Pumaman</td>\n",
       "      <td>Low-budget superhero flick about a young man g...</td>\n",
       "      <td>0.527463</td>\n",
       "    </tr>\n",
       "    <tr>\n",
       "      <th>1640</th>\n",
       "      <td>Super</td>\n",
       "      <td>After his wife falls under the influence of a ...</td>\n",
       "      <td>0.526745</td>\n",
       "    </tr>\n",
       "    <tr>\n",
       "      <th>3734</th>\n",
       "      <td>Megamind</td>\n",
       "      <td>Bumbling supervillain Megamind finally defeats...</td>\n",
       "      <td>0.511260</td>\n",
       "    </tr>\n",
       "    <tr>\n",
       "      <th>3561</th>\n",
       "      <td>Batman v Superman: Dawn of Justice</td>\n",
       "      <td>Fearing the actions of a god-like Super Hero l...</td>\n",
       "      <td>0.499095</td>\n",
       "    </tr>\n",
       "    <tr>\n",
       "      <th>7856</th>\n",
       "      <td>Mystery Men</td>\n",
       "      <td>When Captain Amazing (Kinnear) is kidnapped by...</td>\n",
       "      <td>0.493855</td>\n",
       "    </tr>\n",
       "  </tbody>\n",
       "</table>\n",
       "</div>"
      ],
      "text/plain": [
       "                                   title  \\\n",
       "8402                         The Pumaman   \n",
       "1640                               Super   \n",
       "3734                            Megamind   \n",
       "3561  Batman v Superman: Dawn of Justice   \n",
       "7856                         Mystery Men   \n",
       "\n",
       "                                               overview  similarity  \n",
       "8402  Low-budget superhero flick about a young man g...    0.527463  \n",
       "1640  After his wife falls under the influence of a ...    0.526745  \n",
       "3734  Bumbling supervillain Megamind finally defeats...    0.511260  \n",
       "3561  Fearing the actions of a god-like Super Hero l...    0.499095  \n",
       "7856  When Captain Amazing (Kinnear) is kidnapped by...    0.493855  "
      ]
     },
     "execution_count": 20,
     "metadata": {},
     "output_type": "execute_result"
    }
   ],
   "source": [
    "user_description = \"A superhero movie\"\n",
    "recommendations = recommend_movies(user_description, n=5)\n",
    "recommendations"
   ]
  },
  {
   "cell_type": "code",
   "execution_count": null,
   "metadata": {},
   "outputs": [],
   "source": []
  }
 ],
 "metadata": {
  "kernelspec": {
   "display_name": "Python 3",
   "language": "python",
   "name": "python3"
  },
  "language_info": {
   "codemirror_mode": {
    "name": "ipython",
    "version": 3
   },
   "file_extension": ".py",
   "mimetype": "text/x-python",
   "name": "python",
   "nbconvert_exporter": "python",
   "pygments_lexer": "ipython3",
   "version": "3.8.5"
  }
 },
 "nbformat": 4,
 "nbformat_minor": 4
}
